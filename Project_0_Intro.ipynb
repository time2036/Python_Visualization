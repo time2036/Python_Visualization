{
 "cells": [
  {
   "cell_type": "markdown",
   "metadata": {},
   "source": [
    "# INTRO TO DATA PROJECTS\n",
    "\n",
    "Congrats! Let's get started.\n",
    "\n",
    "You have the skills you need to analyze large data sets!\n",
    "\n",
    "If you want, go ahead and just go for it with these free public data set resources:\n",
    "\n",
    "http://www.data.gov/\n",
    "\n",
    "http://aws.amazon.com/public-data-sets/\n",
    "\n",
    "http://www.google.com/publicdata/directory"
   ]
  }
 ],
 "metadata": {
  "anaconda-cloud": {},
  "kernelspec": {
   "display_name": "Python [conda env:gl-env]",
   "language": "python",
   "name": "conda-env-gl-env-py"
  },
  "language_info": {
   "codemirror_mode": {
    "name": "ipython",
    "version": 2
   },
   "file_extension": ".py",
   "mimetype": "text/x-python",
   "name": "python",
   "nbconvert_exporter": "python",
   "pygments_lexer": "ipython2",
   "version": "2.7.11"
  }
 },
 "nbformat": 4,
 "nbformat_minor": 1
}
