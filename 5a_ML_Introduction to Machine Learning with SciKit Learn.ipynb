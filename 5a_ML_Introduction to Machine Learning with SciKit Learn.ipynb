{
 "cells": [
  {
   "cell_type": "markdown",
   "metadata": {},
   "source": [
    "# Introduction to Machine Learning\n",
    "In this course we will be focusing on very practical hands on applications of machine learning using the SciKit Learn module for Python.\n",
    "\n",
    "Install it using either pip install scikit-learn or conda install scikit-learn depending on your installation.\n",
    "\n",
    "You can treat each lecture almost like a micro-project. In each lecture we'll get a brief overview of the mathematics behind the model we'll work with and then dive into the code.\n",
    "\n",
    "---\n",
    "\n",
    "## What you can expect to learn from the machine learning section of this course:\n",
    "\n",
    "I've geared this sectionof the course with one main goal in mind: you having a basic understanding of the mathematics behind some machine learning techniques and more importantly: being able to use the scikit learn library with Python to implement those techniques.\n",
    "\n",
    "#### Once you're done with this course you should feel comfortable putting SciKit Learn on your resume.\n",
    "\n",
    "Machine Learning is a very broad topic and we relistically won't be able to cover every thing, especially the higher level mathematics of some methods, but you should have enough material presented here to feel confident in your ability to look at a dataset, choose a model, and then know how to apply SciKit Learn to analyze your data.\n",
    "\n",
    "There are many free online resources to further expand your knowledge on Machine Learning. I've listed a few of the ones I personally recommend here:\n",
    "\n",
    "Free Additional Online Resource for Machine Learning:\n",
    "\n",
    "1.) SciKit Learn's own Documentation is fantastic! They have their own basic tutorial:\n",
    "\n",
    "[SciKit Learn Tutorial](http://scikit-learn.org/stable/tutorial/)\n",
    "\n",
    "2.) Nice Introduction Overview from [Toptal](https://www.toptal.com/machine-learning/machine-learning-theory-an-introductory-primer)\n",
    "\n",
    "3.) This [free online book](http://robotics.stanford.edu/people/nilsson/MLBOOK.pdf) by Stanford professor Nils J. Nilsson.\n",
    "\n",
    "3.) Andrew Ng's Machine Learning Class\n",
    "\n",
    "[notes](http://cs229.stanford.edu/materials.html)\n",
    "\n",
    "[Coursera Video](https://www.coursera.org/learn/machine-learning)\n",
    "\n",
    "Andrew Ng's class delves very nicely into the mathematics of a lot of machine learning. They are also available on youtube for free. Note: He does not use the scikit learn library or the Python language.\n",
    "\n",
    "How I suggest you proceed throughout the machine learning section of this course:\n",
    "\n",
    "1.) Watch the lecture videos here on Udemy and learn about the overview of the mathematics and how to implemenent SciKit Learn.\n",
    "\n",
    "2.) If you're still interested in the deep mathematics- go ahead and look up the corresponding sections in the above resources.\n"
   ]
  }
 ],
 "metadata": {
  "anaconda-cloud": {},
  "kernelspec": {
   "display_name": "Python [conda env:gl-env]",
   "language": "python",
   "name": "conda-env-gl-env-py"
  },
  "language_info": {
   "codemirror_mode": {
    "name": "ipython",
    "version": 2
   },
   "file_extension": ".py",
   "mimetype": "text/x-python",
   "name": "python",
   "nbconvert_exporter": "python",
   "pygments_lexer": "ipython2",
   "version": "2.7.11"
  }
 },
 "nbformat": 4,
 "nbformat_minor": 1
}
